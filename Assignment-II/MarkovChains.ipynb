{
 "cells": [
  {
   "cell_type": "markdown",
   "metadata": {},
   "source": [
    "### $\\text{Assignment II}$"
   ]
  },
  {
   "cell_type": "markdown",
   "metadata": {},
   "source": [
    "$\\text{State Space of Matrix S = {0,1,2}}$\n",
    "\n",
    "$\\text{Given Probabilities:}$\n",
    "+ ${P_{00} = 0.7, P_{01} = 0.2}$\n",
    "+ ${P_{10} = 0.4, P_{12} = 0.0}$\n",
    "+ ${P_{20} = 0.0, P_{21} = 1.0, P_{22} = 0.0}$"
   ]
  },
  {
   "cell_type": "markdown",
   "metadata": {},
   "source": [
    "#### $\\text{(a)}$\n",
    "$\\text{Using the law of total probability, we can calculate the missing probabilities as follows:}$\n",
    "\n",
    "$P_{02} = 1 - P_{00} - P_{01} = 0.1$\n",
    "\n",
    "$P_{11} = 1 - P_{10} - P_{12} = 0.6$\n",
    "\n",
    "$\\text{So we obtain the following transition matrix:}$\n",
    "\n",
    "$\\text{[0.7, 0.2, 0.1]}$\n",
    "\n",
    "$\\text{[0.4, 0.6, 0.0]}$\n",
    "\n",
    "$\\text{[0.0, 1.0, 0.0]}$"
   ]
  },
  {
   "cell_type": "markdown",
   "metadata": {},
   "source": [
    "#### $\\text{(b)}$\n",
    "\n",
    "$\\text{Given that the Markov Chain was initially in State 1, initial state vector}$\n",
    "${\\pi_{0} =}\\text{ [0,1,0] }$\n",
    "\n",
    "$\\text{Using Kolmogorov's equation }{P^{m+n}_{ij} = \\sum_{k \\in S} P^{m}_{ik}P^{n}_{kj}\\text{ }\\forall\\text{ }i,j\\text{ }\\in\\text{ }S,}$\n",
    "$\\text{we see that }{ \\pi_{n} = \\pi_{0} P^{n}}$\n",
    "\n",
    "$\\text{We calculate } \\pi_{n} \\text{ for n = 10,20,50 using the same formula below:}$"
   ]
  },
  {
   "cell_type": "code",
   "execution_count": 34,
   "metadata": {},
   "outputs": [
    {
     "name": "stdout",
     "output_type": "stream",
     "text": [
      "     [,1] [,2] [,3]\n",
      "[1,]  0.7  0.2  0.1\n",
      "[2,]  0.4  0.6  0.0\n",
      "[3,]  0.0  1.0  0.0\n",
      "     [,1] [,2] [,3]\n",
      "[1,]    0    1    0\n"
     ]
    }
   ],
   "source": [
    "# initializing transition matrix\n",
    "C1 <- c(0.7, 0.4, 0.0)\n",
    "C2 <- c(0.2, 0.6, 1.0)\n",
    "C3 <- c(0.1, 0.0, 0.0)\n",
    "P <- matrix(c(C1,C2,C3),nrow=3,ncol=3)\n",
    "print(P)\n",
    "\n",
    "# initializing state vector\n",
    "p <- matrix(c(0,1,0),nrow=1,ncol=3)\n",
    "print(p)"
   ]
  },
  {
   "cell_type": "code",
   "execution_count": 35,
   "metadata": {},
   "outputs": [
    {
     "name": "stdout",
     "output_type": "stream",
     "text": [
      "[1] \"-------------------------------\"\n",
      "[1] \"P 10\"\n",
      "          [,1]      [,2]       [,3]\n",
      "[1,] 0.5405406 0.4054053 0.05405408\n",
      "[2,] 0.5405405 0.4054055 0.05405402\n",
      "[3,] 0.5405402 0.4054058 0.05405399\n",
      "[1] \"pi 10\"\n",
      "          [,1]      [,2]       [,3]\n",
      "[1,] 0.5405405 0.4054055 0.05405402\n",
      "[1] \"-------------------------------\"\n",
      "[1] \"P 20\"\n",
      "          [,1]      [,2]       [,3]\n",
      "[1,] 0.5405405 0.4054054 0.05405405\n",
      "[2,] 0.5405405 0.4054054 0.05405405\n",
      "[3,] 0.5405405 0.4054054 0.05405405\n",
      "[1] \"pi 20\"\n",
      "          [,1]      [,2]       [,3]\n",
      "[1,] 0.5405405 0.4054054 0.05405405\n",
      "[1] \"-------------------------------\"\n",
      "[1] \"P 50\"\n",
      "          [,1]      [,2]       [,3]\n",
      "[1,] 0.5405405 0.4054054 0.05405405\n",
      "[2,] 0.5405405 0.4054054 0.05405405\n",
      "[3,] 0.5405405 0.4054054 0.05405405\n",
      "[1] \"pi 50\"\n",
      "          [,1]      [,2]       [,3]\n",
      "[1,] 0.5405405 0.4054054 0.05405405\n",
      "[1] \"-------------------------------\"\n"
     ]
    }
   ],
   "source": [
    "# calculate P 10, P 20, P 50\n",
    "transition = diag(3)\n",
    "\n",
    "for(i in 1:50)\n",
    "{\n",
    "    p <- p %*% P\n",
    "    transition <- transition %*% P\n",
    "    \n",
    "    if(i==10)\n",
    "    {\n",
    "        print(\"-------------------------------\")\n",
    "        print(\"P 10\")\n",
    "        print(transition)        \n",
    "        print(\"pi 10\")\n",
    "        print(p)\n",
    "    }\n",
    "    \n",
    "    if(i==20)\n",
    "    {\n",
    "        print(\"-------------------------------\")\n",
    "        print(\"P 20\")\n",
    "        print(transition)  \n",
    "        print(\"pi 20\")\n",
    "        print(p)\n",
    "    }\n",
    "    \n",
    "    if(i==49)\n",
    "    {\n",
    "        print(\"-------------------------------\")\n",
    "        print(\"P 50\")\n",
    "        print(transition)\n",
    "        print(\"pi 50\")\n",
    "        print(p)\n",
    "        print(\"-------------------------------\")\n",
    "    }\n",
    "}"
   ]
  },
  {
   "cell_type": "markdown",
   "metadata": {},
   "source": [
    "$\\text{We observe that the Markov Chain attains a limiting distribution at }{P^{20}}\\text{ which is}$\n",
    "$\\text{expected since the chain is irreducible as well as aperiodic.}$\n",
    "$\\text{This is because the state space itself represents a recurrent communicating class}$\n",
    "$\\text{and all the states are aperiodic.}$\n",
    "\n",
    "$\\text{Since the existence of a limiting distribution implies a steady state, we obtain the }$\n",
    "$\\text{stationary distribution vector }$\n",
    "${[\\pi_{0},\\pi_{1},\\pi_{2}] = [0.540, 0.405, 0.054]}$"
   ]
  },
  {
   "cell_type": "markdown",
   "metadata": {},
   "source": [
    "#### $\\text{Ashwin Singh}$\n",
    "\n",
    "#### $\\text{2017222}$"
   ]
  }
 ],
 "metadata": {
  "kernelspec": {
   "display_name": "R",
   "language": "R",
   "name": "ir"
  },
  "language_info": {
   "codemirror_mode": "r",
   "file_extension": ".r",
   "mimetype": "text/x-r-source",
   "name": "R",
   "pygments_lexer": "r",
   "version": "3.5.1"
  }
 },
 "nbformat": 4,
 "nbformat_minor": 2
}
